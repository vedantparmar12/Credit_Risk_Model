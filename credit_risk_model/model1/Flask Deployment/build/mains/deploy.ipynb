{
 "cells": [
  {
   "cell_type": "code",
   "execution_count": 1,
   "id": "0fd50eb2",
   "metadata": {},
   "outputs": [],
   "source": [
    "from flask import Flask,render_template,request\n",
    "import pickle"
   ]
  },
  {
   "cell_type": "code",
   "execution_count": 2,
   "id": "18e0a9e0",
   "metadata": {},
   "outputs": [],
   "source": [
    "app = Flask(__name__)"
   ]
  },
  {
   "cell_type": "code",
   "execution_count": 3,
   "id": "7300bfdb",
   "metadata": {},
   "outputs": [],
   "source": [
    "#load the model\n",
    "model = pickle.load (open ('eps_v1.sav' , 'rb'))"
   ]
  },
  {
   "cell_type": "code",
   "execution_count": 4,
   "id": "df33b624",
   "metadata": {},
   "outputs": [],
   "source": [
    "#home page\n",
    "@app.route('/')\n",
    "def home():\n",
    "    return render_template('index.html', **locals())"
   ]
  },
  {
   "cell_type": "code",
   "execution_count": 5,
   "id": "84df2adf",
   "metadata": {},
   "outputs": [],
   "source": [
    "@app.route('/predict', methods = ['POST','GET'])\n",
    "def predict ():\n",
    "    v1 = float ( request.form['ROCE (%)'] ) \n",
    "    v2 = float ( request.form['CASA (%)']  ) \n",
    "    v3 = float ( request.form['Return on Equity / Networth (%)'] ) \n",
    "    v4 = float ( request.form['Non-Interest Income/Total Assets (%)']  ) \n",
    "    v5 = float ( request.form['Operating Profit/Total Assets (%)'] ) \n",
    "    v6 = float ( request.form['Operating Expenses/Total Assets (%)']  ) \n",
    "    v7 = float ( request.form['Interest Expenses/Total Assets (%)'] ) \n",
    "    v8 = float ( request.form['Face_value']  ) \n",
    "    \n",
    "    result = model.predict ([[v1,v2,v3,v4,v5,v6,v7,v8]]) [0]\n",
    "\n",
    "    return render_template('index.html', **locals())\n"
   ]
  },
  {
   "cell_type": "code",
   "execution_count": null,
   "id": "f9e1b854",
   "metadata": {},
   "outputs": [
    {
     "name": "stdout",
     "output_type": "stream",
     "text": [
      " * Serving Flask app '__main__'\n",
      " * Debug mode: off\n"
     ]
    },
    {
     "name": "stderr",
     "output_type": "stream",
     "text": [
      "WARNING: This is a development server. Do not use it in a production deployment. Use a production WSGI server instead.\n",
      " * Running on http://127.0.0.1:5000\n",
      "Press CTRL+C to quit\n",
      "127.0.0.1 - - [01/May/2024 23:30:30] \"GET / HTTP/1.1\" 200 -\n"
     ]
    }
   ],
   "source": [
    "import warnings\n",
    "warnings.filterwarnings('ignore')\n",
    "if __name__ == '__main__':\n",
    "    app.run ()"
   ]
  }
 ],
 "metadata": {
  "kernelspec": {
   "display_name": "Python 3 (ipykernel)",
   "language": "python",
   "name": "python3"
  },
  "language_info": {
   "codemirror_mode": {
    "name": "ipython",
    "version": 3
   },
   "file_extension": ".py",
   "mimetype": "text/x-python",
   "name": "python",
   "nbconvert_exporter": "python",
   "pygments_lexer": "ipython3",
   "version": "3.11.5"
  }
 },
 "nbformat": 4,
 "nbformat_minor": 5
}
